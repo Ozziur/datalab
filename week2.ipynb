{
  "nbformat": 4,
  "nbformat_minor": 0,
  "metadata": {
    "colab": {
      "name": "week2.ipynb",
      "provenance": [],
      "authorship_tag": "ABX9TyNBNJEHRXG8rMjNVydxloMg",
      "include_colab_link": true
    },
    "kernelspec": {
      "name": "python3",
      "display_name": "Python 3"
    },
    "language_info": {
      "name": "python"
    }
  },
  "cells": [
    {
      "cell_type": "markdown",
      "metadata": {
        "id": "view-in-github",
        "colab_type": "text"
      },
      "source": [
        "<a href=\"https://colab.research.google.com/github/Ozziur/datalab/blob/main/week2.ipynb\" target=\"_parent\"><img src=\"https://colab.research.google.com/assets/colab-badge.svg\" alt=\"Open In Colab\"/></a>"
      ]
    },
    {
      "cell_type": "code",
      "execution_count": 67,
      "metadata": {
        "colab": {
          "base_uri": "https://localhost:8080/"
        },
        "id": "RKic06lqXBGj",
        "outputId": "279860d8-1d60-47ee-e2f9-1c9dd36f091a"
      },
      "outputs": [
        {
          "output_type": "stream",
          "name": "stdout",
          "text": [
            "[0.         0.11111111 0.22222222 0.33333333 0.44444444 0.55555555\n",
            " 0.66666667 0.77777778 0.88888889 1.        ]\n"
          ]
        }
      ],
      "source": [
        "import numpy as np\n",
        "\n",
        "ar1=np.zeros((1,10), dtype=int)\n",
        "ar2=np.ones((1,10),dtype=int)\n",
        "ar3=np.arange(10,51)\n",
        "ar4=np.arange(10,51, 2)\n",
        "ar5=np.zeros((3,3), dtype=int)\n",
        "\n",
        "rand=np.random.choice([0,1])\n",
        "\n",
        "ar7=np.array([0. , 0.11111111, 0.22222222, 0.33333333, 0.44444444, 0.55555555, 0.66666667, 0.77777778, 0.88888889, 1.]) \n",
        "print(ar7)\n",
        "\n"
      ]
    },
    {
      "cell_type": "code",
      "source": [
        "import matplotlib.pyplot as plt\n",
        "import numpy as np\n",
        "\n",
        "matrix = np.matrix(([1,2],[3,4]))\n",
        "\n",
        "print(matrix)\n",
        "\n",
        "\n"
      ],
      "metadata": {
        "colab": {
          "base_uri": "https://localhost:8080/"
        },
        "id": "O6X0BfZ4gVNf",
        "outputId": "d6afc343-8b75-4a37-bee2-d8ce27df9784"
      },
      "execution_count": 70,
      "outputs": [
        {
          "output_type": "stream",
          "name": "stdout",
          "text": [
            "[[1 2]\n",
            " [3 4]]\n"
          ]
        }
      ]
    }
  ]
}