{
  "nbformat": 4,
  "nbformat_minor": 0,
  "metadata": {
    "colab": {
      "name": "week2.ipynb",
      "provenance": [],
      "collapsed_sections": [],
      "authorship_tag": "ABX9TyN6UUgKpXGWzprXbuIUdTdU",
      "include_colab_link": true
    },
    "kernelspec": {
      "name": "python3",
      "display_name": "Python 3"
    },
    "language_info": {
      "name": "python"
    }
  },
  "cells": [
    {
      "cell_type": "markdown",
      "metadata": {
        "id": "view-in-github",
        "colab_type": "text"
      },
      "source": [
        "<a href=\"https://colab.research.google.com/github/Ozziur/datalab/blob/main/week2/week2.ipynb\" target=\"_parent\"><img src=\"https://colab.research.google.com/assets/colab-badge.svg\" alt=\"Open In Colab\"/></a>"
      ]
    },
    {
      "cell_type": "code",
      "execution_count": 11,
      "metadata": {
        "id": "RKic06lqXBGj",
        "outputId": "938ce76b-0afc-4059-c66b-f1477e1e31d5",
        "colab": {
          "base_uri": "https://localhost:8080/"
        }
      },
      "outputs": [
        {
          "output_type": "stream",
          "name": "stdout",
          "text": [
            "[0.         0.11111111 0.22222222 0.33333333 0.44444444 0.55555556\n",
            " 0.66666667 0.77777778 0.88888889 1.        ]\n"
          ]
        }
      ],
      "source": [
        "import numpy as np\n",
        "\n",
        "ar1=np.zeros((1,10), dtype=int)\n",
        "\n",
        "ar2=np.ones((1,10),dtype=int)\n",
        "\n",
        "ar3=np.arange(10,51)\n",
        "\n",
        "ar4=np.arange(10,51, 2)\n",
        "\n",
        "ar5=np.identity(3)\n",
        "\n",
        "rand=np.random.choice([0,1])\n",
        "\n",
        "ar7=np.linspace(0,1,10)\n",
        "print(ar7)\n",
        "\n"
      ]
    },
    {
      "cell_type": "code",
      "source": [
        "import matplotlib.pyplot as plt\n",
        "import numpy as np\n",
        "\n",
        "\n",
        "matrix = np.matrix(([1,2],[3,4]))\n",
        "ar=np.arange(0,12)\n",
        "ar=np.reshape(ar,[3,4])\n",
        "\n",
        "\n",
        "def q3(n):\n",
        "  return np.reshape(np.linspace(0,1,n),(1,n))\n",
        "\n",
        "print (np.shape(q3(50)))\n",
        "\n",
        "\n",
        "arr = np.random.randn(10,12)\n",
        "print(arr.shape)\n",
        "\n",
        "arr[0:5,7:12]\n",
        "\n",
        "m = q3(500)\n",
        "tupla = (m,) *500\n",
        "matrix = np.concatenate(tupla)\n",
        "plt.imshow(matrix)\n",
        "\n",
        "\n"
      ],
      "metadata": {
        "colab": {
          "base_uri": "https://localhost:8080/",
          "height": 320
        },
        "id": "O6X0BfZ4gVNf",
        "outputId": "9127ce2e-acba-48d6-e3fc-6addb5fd8a1a"
      },
      "execution_count": 34,
      "outputs": [
        {
          "output_type": "stream",
          "name": "stdout",
          "text": [
            "(1, 50)\n",
            "(10, 12)\n"
          ]
        },
        {
          "output_type": "execute_result",
          "data": {
            "text/plain": [
              "<matplotlib.image.AxesImage at 0x7f5fa923da50>"
            ]
          },
          "metadata": {},
          "execution_count": 34
        },
        {
          "output_type": "display_data",
          "data": {
            "text/plain": [
              "<Figure size 432x288 with 1 Axes>"
            ],
            "image/png": "[encoded data removed]"
          },
          "metadata": {
            "needs_background": "light"
          }
        }
      ]
    }
  ]
}